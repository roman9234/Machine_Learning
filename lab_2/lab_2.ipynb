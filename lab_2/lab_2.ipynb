{
 "cells": [
  {
   "metadata": {
    "ExecuteTime": {
     "end_time": "2025-04-01T13:24:23.571817Z",
     "start_time": "2025-04-01T13:24:00.908842Z"
    }
   },
   "cell_type": "code",
   "source": [
    "import pandas as pd\n",
    "import matplotlib.pyplot as plt\n",
    "import numpy as np\n",
    "from random import randint\n",
    "from tensorflow.keras.utils import to_categorical\n",
    "from tensorflow.keras.models import Sequential\n",
    "from tensorflow.keras.layers import Dense, Flatten"
   ],
   "id": "8066f8670de23d4e",
   "outputs": [],
   "execution_count": 1
  },
  {
   "metadata": {
    "ExecuteTime": {
     "end_time": "2025-04-01T13:24:25.823784Z",
     "start_time": "2025-04-01T13:24:23.588824Z"
    }
   },
   "cell_type": "code",
   "source": [
    "# Первый столбец содержит метку класса (цифру от 0 до 9), а остальные столбцы — значения интенсивностей пикселей (от 0 до 255) в виде строки, представляющей изображение 28x28.\n",
    "\n",
    "# Загрузка данных из CSV\n",
    "data = pd.read_csv('data/mnist_train.csv')\n",
    "\n",
    "# Просмотр структуры данных\n",
    "# print(data.head(1))  # Вывод первых строк  -label  1x1  1x2  1x3  1x4\n",
    "# print(data.shape)   # Размерность датасета (60000, 785)\n",
    "\n",
    "# Выбор первой строки данных\n",
    "first_row = data.iloc[randint(0,len(data)-1)]\n",
    "\n",
    "# Извлечение метки и пикселей\n",
    "label = first_row.iloc[0]  # Метка класса\n",
    "pixels = first_row[1:].values  # Пиксели изображения\n",
    "\n",
    "# Преобразование пикселей в массив 28x28\n",
    "image = pixels.reshape(28, 28).astype(np.uint8)\n",
    "\n",
    "# Визуализация изображения\n",
    "plt.title(f\"Label: {label}\")\n",
    "plt.imshow(image, cmap='gray')\n",
    "plt.axis('off')\n",
    "plt.show()\n"
   ],
   "id": "b9604e0d9b617f88",
   "outputs": [
    {
     "data": {
      "text/plain": [
       "<Figure size 640x480 with 1 Axes>"
      ],
      "image/png": "[encoded data removed]"
     },
     "metadata": {},
     "output_type": "display_data"
    }
   ],
   "execution_count": 2
  },
  {
   "metadata": {
    "ExecuteTime": {
     "end_time": "2025-04-01T13:24:54.681089Z",
     "start_time": "2025-04-01T13:24:26.066827Z"
    }
   },
   "cell_type": "code",
   "source": [
    "# Загрузка данных\n",
    "train_data = pd.read_csv('data/mnist_train.csv')\n",
    "test_data = pd.read_csv('data/mnist_test.csv')\n",
    "\n",
    "# Разделение на признаки X и метки y\n",
    "X_train = train_data.iloc[:, 1:].values  # Все столбцы, кроме первого\n",
    "y_train = train_data.iloc[:, 0].values   # Первый столбец — метки\n",
    "\n",
    "# Так же с тестовым набором данных\n",
    "X_test = test_data.iloc[:, 1:].values\n",
    "y_test_raw = test_data.iloc[:, 0].values\n",
    "\n",
    "# Нормализация данных (приведение пикселей к диапазону [0, 1])\n",
    "X_train = X_train / 255.0\n",
    "X_test = X_test / 255.0\n",
    "\n",
    "# Преобразование меток в one-hot encoding.\n",
    "# Каждому уникальному значению категории присваивается бинарный вектор,\n",
    "# в котором все значения равны нулю, кроме индекса категории, который отмечается цифрой 1\n",
    "y_train = to_categorical(y_train, num_classes=10)\n",
    "y_test = to_categorical(y_test_raw, num_classes=10)\n",
    "\n",
    "\n",
    "\n",
    "# Создание модели\n",
    "model = Sequential([\n",
    "    Flatten(input_shape=(784,)),  # Входной слой: преобразование 28x28 в вектор длиной 784\n",
    "    Dense(128, activation='relu'),  # Скрытый слой с 128 нейронами и ReLU-активацией\n",
    "    Dense(64, activation='relu'),   # Ещё один скрытый слой\n",
    "    Dense(10, activation='softmax') # Выходной слой для классификации (10 классов)\n",
    "])\n",
    "\n",
    "# Компиляция модели\n",
    "model.compile(optimizer='adam',\n",
    "              loss='categorical_crossentropy',\n",
    "              metrics=['accuracy'])\n",
    "\n",
    "# Обучение модели\n",
    "model.fit(X_train, y_train, epochs=10, batch_size=32, validation_split=0.2)\n"
   ],
   "id": "99a80b4b1ef61e08",
   "outputs": [
    {
     "name": "stderr",
     "output_type": "stream",
     "text": [
      "C:\\programming_HUB\\Machine_Learning\\venv\\Lib\\site-packages\\keras\\src\\layers\\reshaping\\flatten.py:37: UserWarning: Do not pass an `input_shape`/`input_dim` argument to a layer. When using Sequential models, prefer using an `Input(shape)` object as the first layer in the model instead.\n",
      "  super().__init__(**kwargs)\n"
     ]
    },
    {
     "name": "stdout",
     "output_type": "stream",
     "text": [
      "Epoch 1/10\n",
      "\u001B[1m1500/1500\u001B[0m \u001B[32m━━━━━━━━━━━━━━━━━━━━\u001B[0m\u001B[37m\u001B[0m \u001B[1m4s\u001B[0m 2ms/step - accuracy: 0.8642 - loss: 0.4754 - val_accuracy: 0.9534 - val_loss: 0.1478\n",
      "Epoch 2/10\n",
      "\u001B[1m1500/1500\u001B[0m \u001B[32m━━━━━━━━━━━━━━━━━━━━\u001B[0m\u001B[37m\u001B[0m \u001B[1m2s\u001B[0m 2ms/step - accuracy: 0.9648 - loss: 0.1193 - val_accuracy: 0.9686 - val_loss: 0.1040\n",
      "Epoch 3/10\n",
      "\u001B[1m1500/1500\u001B[0m \u001B[32m━━━━━━━━━━━━━━━━━━━━\u001B[0m\u001B[37m\u001B[0m \u001B[1m2s\u001B[0m 2ms/step - accuracy: 0.9758 - loss: 0.0779 - val_accuracy: 0.9717 - val_loss: 0.0957\n",
      "Epoch 4/10\n",
      "\u001B[1m1500/1500\u001B[0m \u001B[32m━━━━━━━━━━━━━━━━━━━━\u001B[0m\u001B[37m\u001B[0m \u001B[1m2s\u001B[0m 2ms/step - accuracy: 0.9822 - loss: 0.0553 - val_accuracy: 0.9734 - val_loss: 0.0915\n",
      "Epoch 5/10\n",
      "\u001B[1m1500/1500\u001B[0m \u001B[32m━━━━━━━━━━━━━━━━━━━━\u001B[0m\u001B[37m\u001B[0m \u001B[1m2s\u001B[0m 2ms/step - accuracy: 0.9868 - loss: 0.0414 - val_accuracy: 0.9723 - val_loss: 0.0963\n",
      "Epoch 6/10\n",
      "\u001B[1m1500/1500\u001B[0m \u001B[32m━━━━━━━━━━━━━━━━━━━━\u001B[0m\u001B[37m\u001B[0m \u001B[1m2s\u001B[0m 2ms/step - accuracy: 0.9894 - loss: 0.0322 - val_accuracy: 0.9690 - val_loss: 0.1182\n",
      "Epoch 7/10\n",
      "\u001B[1m1500/1500\u001B[0m \u001B[32m━━━━━━━━━━━━━━━━━━━━\u001B[0m\u001B[37m\u001B[0m \u001B[1m2s\u001B[0m 2ms/step - accuracy: 0.9910 - loss: 0.0272 - val_accuracy: 0.9745 - val_loss: 0.0968\n",
      "Epoch 8/10\n",
      "\u001B[1m1500/1500\u001B[0m \u001B[32m━━━━━━━━━━━━━━━━━━━━\u001B[0m\u001B[37m\u001B[0m \u001B[1m3s\u001B[0m 2ms/step - accuracy: 0.9932 - loss: 0.0205 - val_accuracy: 0.9749 - val_loss: 0.0992\n",
      "Epoch 9/10\n",
      "\u001B[1m1500/1500\u001B[0m \u001B[32m━━━━━━━━━━━━━━━━━━━━\u001B[0m\u001B[37m\u001B[0m \u001B[1m3s\u001B[0m 2ms/step - accuracy: 0.9935 - loss: 0.0198 - val_accuracy: 0.9747 - val_loss: 0.1071\n",
      "Epoch 10/10\n",
      "\u001B[1m1500/1500\u001B[0m \u001B[32m━━━━━━━━━━━━━━━━━━━━\u001B[0m\u001B[37m\u001B[0m \u001B[1m3s\u001B[0m 2ms/step - accuracy: 0.9950 - loss: 0.0155 - val_accuracy: 0.9752 - val_loss: 0.1065\n"
     ]
    },
    {
     "data": {
      "text/plain": [
       "<keras.src.callbacks.history.History at 0x2466fd15580>"
      ]
     },
     "execution_count": 3,
     "metadata": {},
     "output_type": "execute_result"
    }
   ],
   "execution_count": 3
  },
  {
   "metadata": {},
   "cell_type": "markdown",
   "source": "Метка точности",
   "id": "daa9e22d912a7753"
  },
  {
   "metadata": {
    "ExecuteTime": {
     "end_time": "2025-04-01T13:24:55.253280Z",
     "start_time": "2025-04-01T13:24:54.701120Z"
    }
   },
   "cell_type": "code",
   "source": [
    "# Оценка модели на тестовых данных\n",
    "test_loss, test_accuracy = model.evaluate(X_test, y_test)\n",
    "print(f\"Точность на тестовом наборе: {test_accuracy * 100:.2f}%\")\n"
   ],
   "id": "cb5f5af650537481",
   "outputs": [
    {
     "name": "stdout",
     "output_type": "stream",
     "text": [
      "\u001B[1m313/313\u001B[0m \u001B[32m━━━━━━━━━━━━━━━━━━━━\u001B[0m\u001B[37m\u001B[0m \u001B[1m0s\u001B[0m 1ms/step - accuracy: 0.9712 - loss: 0.1203   \n",
      "Точность на тестовом наборе: 97.56%\n"
     ]
    }
   ],
   "execution_count": 4
  },
  {
   "metadata": {},
   "cell_type": "markdown",
   "source": "Получение предсказания для одного изображения",
   "id": "d2de0e5e4da1bd88"
  },
  {
   "metadata": {
    "ExecuteTime": {
     "end_time": "2025-04-01T13:24:56.429064Z",
     "start_time": "2025-04-01T13:24:55.273403Z"
    }
   },
   "cell_type": "code",
   "source": [
    "# Визуализация 10 изображений в 2 строки и 5 столбцов\n",
    "fig, axes = plt.subplots(3, 4, figsize=(12, 6))  # 2 строки, 5 столбцов\n",
    "\n",
    "for i, ax in enumerate(axes.flat):\n",
    "\n",
    "    index = randint(0,len(test_data)-1)  # Индекс изображения для предсказания\n",
    "    image = X_test[index].reshape(1, -1)  # Преобразование в формат (1, 784)\n",
    "\n",
    "    prediction = model.predict(image, verbose=0)\n",
    "    predicted_label = np.argmax(prediction)  # Индекс с максимальной вероятностью\n",
    "    label = y_test_raw[index]\n",
    "\n",
    "    ax.imshow(image.reshape(28, 28), cmap='gray')\n",
    "    ax.set_title(f\"предск: {predicted_label}, наст:{label}\")\n",
    "    ax.axis('off')\n",
    "\n",
    "plt.tight_layout()\n",
    "plt.show()\n"
   ],
   "id": "d848d82bb4b58b8a",
   "outputs": [
    {
     "data": {
      "text/plain": [
       "<Figure size 1200x600 with 12 Axes>"
      ],
      "image/png": "[encoded data removed]"
     },
     "metadata": {},
     "output_type": "display_data"
    }
   ],
   "execution_count": 5
  }
 ],
 "metadata": {
  "kernelspec": {
   "display_name": "Python 3",
   "language": "python",
   "name": "python3"
  },
  "language_info": {
   "codemirror_mode": {
    "name": "ipython",
    "version": 2
   },
   "file_extension": ".py",
   "mimetype": "text/x-python",
   "name": "python",
   "nbconvert_exporter": "python",
   "pygments_lexer": "ipython2",
   "version": "2.7.6"
  }
 },
 "nbformat": 4,
 "nbformat_minor": 5
}

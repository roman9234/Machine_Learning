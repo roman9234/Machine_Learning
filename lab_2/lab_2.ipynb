{
 "cells": [
  {
   "metadata": {
    "ExecuteTime": {
     "end_time": "2025-03-27T18:11:58.481677Z",
     "start_time": "2025-03-27T18:11:56.184437Z"
    }
   },
   "cell_type": "code",
   "source": [
    "import pandas as pd\n",
    "import matplotlib.pyplot as plt\n",
    "import numpy as np\n",
    "from random import randint\n",
    "\n",
    "# Первый столбец содержит метку класса (цифру от 0 до 9), а остальные столбцы — значения интенсивностей пикселей (от 0 до 255) в виде строки, представляющей изображение 28x28.\n",
    "\n",
    "\n",
    "# Загрузка данных из CSV\n",
    "data = pd.read_csv('data/mnist_train.csv')\n",
    "\n",
    "# Просмотр структуры данных\n",
    "# print(data.head(1))  # Вывод первых строк  -label  1x1  1x2  1x3  1x4\n",
    "# print(data.shape)   # Размерность датасета (60000, 785)\n",
    "\n",
    "# Выбор первой строки данных\n",
    "first_row = data.iloc[randint(0,len(data)-1)]\n",
    "\n",
    "# Извлечение метки и пикселей\n",
    "# label = first_row[0]  # Метка класса\n",
    "label = first_row.iloc[0]  # Метка класса\n",
    "pixels = first_row[1:].values  # Пиксели изображения\n",
    "\n",
    "# Преобразование пикселей в массив 28x28\n",
    "image = pixels.reshape(28, 28).astype(np.uint8)\n",
    "\n",
    "# Визуализация изображения\n",
    "plt.title(f\"Label: {label}\")\n",
    "plt.imshow(image, cmap='gray')\n",
    "plt.axis('off')\n",
    "plt.show()\n"
   ],
   "id": "b9604e0d9b617f88",
   "outputs": [
    {
     "data": {
      "text/plain": [
       "<Figure size 640x480 with 1 Axes>"
      ],
      "image/png": "[encoded data removed]"
     },
     "metadata": {},
     "output_type": "display_data"
    }
   ],
   "execution_count": 41
  },
  {
   "metadata": {
    "ExecuteTime": {
     "end_time": "2025-03-27T18:11:58.491593Z",
     "start_time": "2025-03-27T18:11:58.488019Z"
    }
   },
   "cell_type": "code",
   "source": [
    "from tensorflow.keras.utils import to_categorical\n",
    "import tensorflow as tf\n",
    "from tensorflow.keras.models import Sequential\n",
    "from tensorflow.keras.layers import Dense, Flatten"
   ],
   "id": "6246052b249e826c",
   "outputs": [],
   "execution_count": 42
  },
  {
   "metadata": {
    "ExecuteTime": {
     "end_time": "2025-03-27T18:12:29.226381Z",
     "start_time": "2025-03-27T18:11:58.537132Z"
    }
   },
   "cell_type": "code",
   "source": [
    "# Загрузка данных\n",
    "train_data = pd.read_csv('data/mnist_train.csv')\n",
    "test_data = pd.read_csv('data/mnist_test.csv')\n",
    "\n",
    "# Разделение на признаки (X) и метки (y)\n",
    "X_train = train_data.iloc[:, 1:].values  # Все столбцы, кроме первого\n",
    "y_train = train_data.iloc[:, 0].values   # Первый столбец — метки\n",
    "\n",
    "X_test = test_data.iloc[:, 1:].values\n",
    "y_test_raw = test_data.iloc[:, 0].values\n",
    "\n",
    "# Нормализация данных (приведение пикселей к диапазону [0, 1])\n",
    "X_train = X_train / 255.0\n",
    "X_test = X_test / 255.0\n",
    "\n",
    "# Преобразование меток в one-hot encoding\n",
    "y_train = to_categorical(y_train, num_classes=10)\n",
    "y_test = to_categorical(y_test_raw, num_classes=10)\n",
    "\n",
    "\n",
    "\n",
    "# Создание модели\n",
    "model = Sequential([\n",
    "    Flatten(input_shape=(784,)),  # Входной слой: преобразование 28x28 в вектор длиной 784\n",
    "    Dense(128, activation='relu'),  # Скрытый слой с 128 нейронами и ReLU-активацией\n",
    "    Dense(64, activation='relu'),   # Ещё один скрытый слой\n",
    "    Dense(10, activation='softmax') # Выходной слой для классификации (10 классов)\n",
    "])\n",
    "\n",
    "# Компиляция модели\n",
    "model.compile(optimizer='adam',\n",
    "              loss='categorical_crossentropy',\n",
    "              metrics=['accuracy'])\n",
    "\n",
    "# Обучение модели\n",
    "model.fit(X_train, y_train, epochs=10, batch_size=32, validation_split=0.2)\n",
    "\n"
   ],
   "id": "99a80b4b1ef61e08",
   "outputs": [
    {
     "name": "stdout",
     "output_type": "stream",
     "text": [
      "Epoch 1/10\n"
     ]
    },
    {
     "name": "stderr",
     "output_type": "stream",
     "text": [
      "C:\\programming_HUB\\Machine_Learning\\venv\\Lib\\site-packages\\keras\\src\\layers\\reshaping\\flatten.py:37: UserWarning: Do not pass an `input_shape`/`input_dim` argument to a layer. When using Sequential models, prefer using an `Input(shape)` object as the first layer in the model instead.\n",
      "  super().__init__(**kwargs)\n"
     ]
    },
    {
     "name": "stdout",
     "output_type": "stream",
     "text": [
      "\u001B[1m1500/1500\u001B[0m \u001B[32m━━━━━━━━━━━━━━━━━━━━\u001B[0m\u001B[37m\u001B[0m \u001B[1m4s\u001B[0m 2ms/step - accuracy: 0.8592 - loss: 0.4877 - val_accuracy: 0.9558 - val_loss: 0.1461\n",
      "Epoch 2/10\n",
      "\u001B[1m1500/1500\u001B[0m \u001B[32m━━━━━━━━━━━━━━━━━━━━\u001B[0m\u001B[37m\u001B[0m \u001B[1m3s\u001B[0m 2ms/step - accuracy: 0.9665 - loss: 0.1149 - val_accuracy: 0.9677 - val_loss: 0.1034\n",
      "Epoch 3/10\n",
      "\u001B[1m1500/1500\u001B[0m \u001B[32m━━━━━━━━━━━━━━━━━━━━\u001B[0m\u001B[37m\u001B[0m \u001B[1m3s\u001B[0m 2ms/step - accuracy: 0.9755 - loss: 0.0778 - val_accuracy: 0.9720 - val_loss: 0.0946\n",
      "Epoch 4/10\n",
      "\u001B[1m1500/1500\u001B[0m \u001B[32m━━━━━━━━━━━━━━━━━━━━\u001B[0m\u001B[37m\u001B[0m \u001B[1m3s\u001B[0m 2ms/step - accuracy: 0.9828 - loss: 0.0546 - val_accuracy: 0.9724 - val_loss: 0.0922\n",
      "Epoch 5/10\n",
      "\u001B[1m1500/1500\u001B[0m \u001B[32m━━━━━━━━━━━━━━━━━━━━\u001B[0m\u001B[37m\u001B[0m \u001B[1m3s\u001B[0m 2ms/step - accuracy: 0.9877 - loss: 0.0382 - val_accuracy: 0.9726 - val_loss: 0.0943\n",
      "Epoch 6/10\n",
      "\u001B[1m1500/1500\u001B[0m \u001B[32m━━━━━━━━━━━━━━━━━━━━\u001B[0m\u001B[37m\u001B[0m \u001B[1m3s\u001B[0m 2ms/step - accuracy: 0.9903 - loss: 0.0318 - val_accuracy: 0.9740 - val_loss: 0.0955\n",
      "Epoch 7/10\n",
      "\u001B[1m1500/1500\u001B[0m \u001B[32m━━━━━━━━━━━━━━━━━━━━\u001B[0m\u001B[37m\u001B[0m \u001B[1m3s\u001B[0m 2ms/step - accuracy: 0.9919 - loss: 0.0258 - val_accuracy: 0.9753 - val_loss: 0.0935\n",
      "Epoch 8/10\n",
      "\u001B[1m1500/1500\u001B[0m \u001B[32m━━━━━━━━━━━━━━━━━━━━\u001B[0m\u001B[37m\u001B[0m \u001B[1m3s\u001B[0m 2ms/step - accuracy: 0.9934 - loss: 0.0209 - val_accuracy: 0.9762 - val_loss: 0.1048\n",
      "Epoch 9/10\n",
      "\u001B[1m1500/1500\u001B[0m \u001B[32m━━━━━━━━━━━━━━━━━━━━\u001B[0m\u001B[37m\u001B[0m \u001B[1m3s\u001B[0m 2ms/step - accuracy: 0.9926 - loss: 0.0204 - val_accuracy: 0.9734 - val_loss: 0.1149\n",
      "Epoch 10/10\n",
      "\u001B[1m1500/1500\u001B[0m \u001B[32m━━━━━━━━━━━━━━━━━━━━\u001B[0m\u001B[37m\u001B[0m \u001B[1m3s\u001B[0m 2ms/step - accuracy: 0.9951 - loss: 0.0171 - val_accuracy: 0.9755 - val_loss: 0.1100\n"
     ]
    },
    {
     "data": {
      "text/plain": [
       "<keras.src.callbacks.history.History at 0x2926526e900>"
      ]
     },
     "execution_count": 43,
     "metadata": {},
     "output_type": "execute_result"
    }
   ],
   "execution_count": 43
  },
  {
   "metadata": {},
   "cell_type": "markdown",
   "source": "Метка точности",
   "id": "daa9e22d912a7753"
  },
  {
   "metadata": {
    "ExecuteTime": {
     "end_time": "2025-03-27T18:12:38.346080Z",
     "start_time": "2025-03-27T18:12:37.901675Z"
    }
   },
   "cell_type": "code",
   "source": [
    "# Оценка модели на тестовых данных\n",
    "test_loss, test_accuracy = model.evaluate(X_test, y_test)\n",
    "print(f\"Точность на тестовом наборе: {test_accuracy * 100:.2f}%\")\n"
   ],
   "id": "cb5f5af650537481",
   "outputs": [
    {
     "name": "stdout",
     "output_type": "stream",
     "text": [
      "\u001B[1m313/313\u001B[0m \u001B[32m━━━━━━━━━━━━━━━━━━━━\u001B[0m\u001B[37m\u001B[0m \u001B[1m0s\u001B[0m 1ms/step - accuracy: 0.9737 - loss: 0.1035\n",
      "Точность на тестовом наборе: 97.79%\n"
     ]
    }
   ],
   "execution_count": 46
  },
  {
   "metadata": {},
   "cell_type": "markdown",
   "source": "Получение предсказания для одного изображения",
   "id": "d2de0e5e4da1bd88"
  },
  {
   "metadata": {
    "ExecuteTime": {
     "end_time": "2025-03-27T18:24:40.944348Z",
     "start_time": "2025-03-27T18:24:39.797413Z"
    }
   },
   "cell_type": "code",
   "source": [
    "# Визуализация 10 изображений в 2 строки и 5 столбцов\n",
    "fig, axes = plt.subplots(3, 4, figsize=(12, 6))  # 2 строки, 5 столбцов\n",
    "\n",
    "for i, ax in enumerate(axes.flat):\n",
    "\n",
    "    index = randint(0,len(test_data)-1)  # Индекс изображения для предсказания\n",
    "    image = X_test[index].reshape(1, -1)  # Преобразование в формат (1, 784)\n",
    "\n",
    "    prediction = model.predict(image, verbose=0)\n",
    "    predicted_label = np.argmax(prediction)  # Индекс с максимальной вероятностью\n",
    "    label = y_test_raw[index]\n",
    "\n",
    "    ax.imshow(image.reshape(28, 28), cmap='gray')\n",
    "    ax.set_title(f\"предск: {predicted_label}, наст:{label}\")\n",
    "    ax.axis('off')\n",
    "\n",
    "plt.tight_layout()\n",
    "plt.show()\n"
   ],
   "id": "d848d82bb4b58b8a",
   "outputs": [
    {
     "data": {
      "text/plain": [
       "<Figure size 1200x600 with 12 Axes>"
      ],
      "image/png": "[encoded data removed]"
     },
     "metadata": {},
     "output_type": "display_data"
    }
   ],
   "execution_count": 81
  }
 ],
 "metadata": {
  "kernelspec": {
   "display_name": "Python 3",
   "language": "python",
   "name": "python3"
  },
  "language_info": {
   "codemirror_mode": {
    "name": "ipython",
    "version": 2
   },
   "file_extension": ".py",
   "mimetype": "text/x-python",
   "name": "python",
   "nbconvert_exporter": "python",
   "pygments_lexer": "ipython2",
   "version": "2.7.6"
  }
 },
 "nbformat": 4,
 "nbformat_minor": 5
}

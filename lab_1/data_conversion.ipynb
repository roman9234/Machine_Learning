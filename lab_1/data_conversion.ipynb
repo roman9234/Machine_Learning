{
 "cells": [
  {
   "metadata": {
    "ExecuteTime": {
     "end_time": "2025-03-13T18:21:55.084576Z",
     "start_time": "2025-03-13T18:21:54.832867Z"
    }
   },
   "cell_type": "code",
   "source": [
    "import pandas as pd\n",
    "import nltk\n",
    "from nltk.tokenize import word_tokenize\n",
    "\n",
    "# nltk.download('punkt_tab')"
   ],
   "id": "a86eb3c80d0df61e",
   "outputs": [],
   "execution_count": 8
  },
  {
   "metadata": {
    "ExecuteTime": {
     "end_time": "2025-03-13T18:32:58.312271Z",
     "start_time": "2025-03-13T18:32:58.167864Z"
    }
   },
   "cell_type": "code",
   "source": [
    "print(df.columns)\n",
    "print(df.info())\n",
    "print(df.tail(5))  # Показать последние 5 строк\n",
    "print(df.isnull().sum())"
   ],
   "id": "d1fed883561081b",
   "outputs": [
    {
     "name": "stdout",
     "output_type": "stream",
     "text": [
      "title                            the 16th street baptist church bombing\n",
      "description           this informational text explains how the bombi...\n",
      "is_prose                                                              1\n",
      "genre                                                informational text\n",
      "intro                 in the 1950s and 1960s the american people, ba...\n",
      "description_tokens    [this, informational, text, explains, how, the...\n",
      "Name: 5, dtype: object\n"
     ]
    }
   ],
   "execution_count": 27
  }
 ],
 "metadata": {
  "kernelspec": {
   "name": "python3",
   "language": "python",
   "display_name": "Python 3 (ipykernel)"
  }
 },
 "nbformat": 5,
 "nbformat_minor": 9
}
